{
 "cells": [
  {
   "cell_type": "code",
   "execution_count": 1,
   "id": "f858028c-b278-4c27-886d-23064c6aecbe",
   "metadata": {},
   "outputs": [],
   "source": [
    "import cv2"
   ]
  },
  {
   "cell_type": "code",
   "execution_count": 2,
   "id": "441452e5-55ec-4bdf-be02-e2288b8996ac",
   "metadata": {},
   "outputs": [
    {
     "name": "stdout",
     "output_type": "stream",
     "text": [
      "/opt/anaconda3/lib/python3.11/site-packages/cv2/data/haarcascade_frontalface_default.xml\n"
     ]
    }
   ],
   "source": [
    "cascade_path = cv2.data.haarcascades + 'haarcascade_frontalface_default.xml'\n",
    "print(cascade_path)"
   ]
  },
  {
   "cell_type": "code",
   "execution_count": 3,
   "id": "7a0eff7c-566a-413a-919e-7529633d896a",
   "metadata": {},
   "outputs": [],
   "source": [
    "face_cascade = cv2.CascadeClassifier('/opt/anaconda3/lib/python3.11/site-packages/cv2/data/haarcascade_frontalface_default.xml')"
   ]
  },
  {
   "cell_type": "code",
   "execution_count": 4,
   "id": "50a8f543-c5c4-45eb-a4d4-2763057841cb",
   "metadata": {},
   "outputs": [],
   "source": [
    "image_path = 'group.jpg'\n",
    "image = cv2.imread(image_path,0)"
   ]
  },
  {
   "cell_type": "code",
   "execution_count": 5,
   "id": "4d7c1dcc-667b-4e1a-83d7-c786378d4a9c",
   "metadata": {},
   "outputs": [],
   "source": [
    "faces = face_cascade.detectMultiScale(image, scaleFactor=1.1, minNeighbors=5, minSize=(30,30))"
   ]
  },
  {
   "cell_type": "code",
   "execution_count": 6,
   "id": "0654a042-b284-4250-93c6-8d94bd09d38e",
   "metadata": {},
   "outputs": [],
   "source": [
    "for(x, y, w, h) in faces: \n",
    "    cv2.rectangle(image, (x,y), (x+w, y+h), (0,0,100), 5)"
   ]
  },
  {
   "cell_type": "code",
   "execution_count": 8,
   "id": "fe7d8213-b845-4d07-a8f7-57088595b81e",
   "metadata": {},
   "outputs": [],
   "source": [
    "cv2.imshow(\"Image\",image)\n",
    "cv2.waitKey(0)\n",
    "cv2.destroyAllWindows()"
   ]
  }
 ],
 "metadata": {
  "kernelspec": {
   "display_name": "Python 3 (ipykernel)",
   "language": "python",
   "name": "python3"
  },
  "language_info": {
   "codemirror_mode": {
    "name": "ipython",
    "version": 3
   },
   "file_extension": ".py",
   "mimetype": "text/x-python",
   "name": "python",
   "nbconvert_exporter": "python",
   "pygments_lexer": "ipython3",
   "version": "3.11.7"
  }
 },
 "nbformat": 4,
 "nbformat_minor": 5
}
