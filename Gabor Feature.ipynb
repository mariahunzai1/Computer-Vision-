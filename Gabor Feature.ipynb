{
 "cells": [
  {
   "cell_type": "code",
   "execution_count": 1,
   "id": "6beab791-ff3a-4bb0-a3c0-8ee41ba65868",
   "metadata": {},
   "outputs": [],
   "source": [
    "import numpy as np \n",
    "import matplotlib.pyplot as plt\n",
    "import pandas as pd \n",
    "import cv2"
   ]
  },
  {
   "cell_type": "code",
   "execution_count": 2,
   "id": "24075f64-f63d-499b-9fb4-8e048ad02525",
   "metadata": {},
   "outputs": [],
   "source": [
    "image = cv2.imread('img.jpg', 0)"
   ]
  },
  {
   "cell_type": "code",
   "execution_count": 3,
   "id": "f1e42b27-1996-42be-901c-c8174adef1a2",
   "metadata": {},
   "outputs": [],
   "source": [
    "ksize = 5\n",
    "sigma = 3\n",
    "theta = 1*np.pi/4\n",
    "lamda = 1*np.pi/4\n",
    "gamma = 0.4\n",
    "phi = 0"
   ]
  },
  {
   "cell_type": "code",
   "execution_count": 4,
   "id": "7d47b2d9-f3b1-4687-84a0-3bc42a5bdb7d",
   "metadata": {},
   "outputs": [],
   "source": [
    "kernel = cv2.getGaborKernel((ksize,ksize),sigma, theta, lamda, gamma, phi, ktype = cv2.CV_32F)\n",
    "fimg = cv2.filter2D(image, cv2.CV_8UC3, kernel)"
   ]
  },
  {
   "cell_type": "code",
   "execution_count": null,
   "id": "2889f372-3079-41d3-a5db-e323a6c9c49e",
   "metadata": {},
   "outputs": [],
   "source": [
    "kernel_resized = cv2.resize(kernel, (400,400))\n",
    "cv2.imshow('kernel',kernel_resized)\n",
    "cv2.imshow('Original Image', image)\n",
    "cv2.imshow('Filtered', fimg)\n",
    "cv2.waitKey(0)\n",
    "cv2.destroyAllWindows()"
   ]
  }
 ],
 "metadata": {
  "kernelspec": {
   "display_name": "Python 3 (ipykernel)",
   "language": "python",
   "name": "python3"
  },
  "language_info": {
   "codemirror_mode": {
    "name": "ipython",
    "version": 3
   },
   "file_extension": ".py",
   "mimetype": "text/x-python",
   "name": "python",
   "nbconvert_exporter": "python",
   "pygments_lexer": "ipython3",
   "version": "3.11.7"
  }
 },
 "nbformat": 4,
 "nbformat_minor": 5
}
